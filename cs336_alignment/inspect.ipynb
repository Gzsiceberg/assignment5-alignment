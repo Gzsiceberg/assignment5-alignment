{
 "cells": [
  {
   "cell_type": "code",
   "execution_count": null,
   "id": "7bf4a38f",
   "metadata": {},
   "outputs": [],
   "source": [
    "from datasets import load_dataset\n",
    "import datasets\n",
    "ds = load_dataset(\"openai/gsm8k\", \"main\")\n",
    "train: datasets.Dataset = ds[\"train\"]\n",
    "prompt_templ = \"\"\"A conversation between User and Assistant. The User asks a question, and the Assistant solves it. The Assistant first thinks about the reasoning process in the mind and then provides the User with the answer. The reasoning process is enclosed within <think> </think> and answer is enclosed within <answer> </answer> tags, respectively, i.e., <think> reasoning process here </think> <answer> answer here </answer>.\n",
    "User: {0}\n",
    "Assistant: <think>\"\"\"\n",
    "print(prompt_templ)"
   ]
  },
  {
   "cell_type": "code",
   "execution_count": null,
   "id": "c199f987",
   "metadata": {},
   "outputs": [],
   "source": [
    "from cs336_alignment.math_baseline import extract_answer\n",
    "prompts = []\n",
    "ground_truths = []\n",
    "for t, data in enumerate(train):\n",
    "    question = data[\"question\"]\n",
    "    answer_text = data[\"answer\"]\n",
    "    answer = extract_answer(answer_text)\n",
    "    assert answer is not None, f\"Could not extract answer from: {answer_text}\"\n",
    "    full_prompt = prompt_templ.format(question)\n",
    "    prompts.append(full_prompt)\n",
    "    ground_truths.append(answer)"
   ]
  },
  {
   "cell_type": "code",
   "execution_count": null,
   "id": "1aef9369",
   "metadata": {},
   "outputs": [],
   "source": [
    "import random\n",
    "index = random.randint(0, len(prompts) - 1)\n",
    "print(\"Question:\")\n",
    "print(train[index][\"question\"])\n",
    "print(\"-\" * 20)\n",
    "print(\"Ground truth answer:\")\n",
    "print(ground_truths[index])\n",
    "print(\"-\" * 20)\n",
    "print(\"Answer Text:\")\n",
    "print(train[index][\"answer\"])"
   ]
  },
  {
   "cell_type": "code",
   "execution_count": 8,
   "id": "9d943bef",
   "metadata": {},
   "outputs": [],
   "source": [
    "import pickle\n",
    "with open(\"../data/math_baseline_eval_results.pkl\", \"rb\") as f:\n",
    "    results = pickle.load(f)"
   ]
  },
  {
   "cell_type": "code",
   "execution_count": 9,
   "id": "f0153712",
   "metadata": {},
   "outputs": [
    {
     "data": {
      "text/plain": [
       "'Format Reward looks correct, only one issue is that therre are some cases \\nwhere <think/> something <answer> answer </answer> is not satisfied. \\nWe can improve the format reward by checking for this condition.'"
      ]
     },
     "execution_count": 9,
     "metadata": {},
     "output_type": "execute_result"
    }
   ],
   "source": [
    "import random\n",
    "prompts = results[\"prompts\"]\n",
    "responses = results[\"responses\"]\n",
    "rewards = results[\"rewards\"]\n",
    "ground_truths = results[\"ground_truths\"]\n",
    "\n",
    "index = random.randint(0, len(prompts) - 1)\n",
    "r = rewards[index]\n",
    "format_rewards = r[\"format_reward\"]\n",
    "if r[\"reward\"] <= 0 and format_rewards <= 0:\n",
    "    print(\"Prompt:\")\n",
    "    print(prompts[index])\n",
    "    print(\"-\" * 20)\n",
    "    print(\"Response:\")\n",
    "    print(responses[index])\n",
    "    print(\"-\" * 20)\n",
    "    print(\"Ground Truth:\")\n",
    "    print(ground_truths[index])\n",
    "    print(\"-\" * 20)\n",
    "    print(\"Reward:\")\n",
    "    print(rewards[index])\n",
    "\n",
    "\"\"\"Format Reward looks correct, only one issue is that therre are some cases \n",
    "where <think/> something <answer> answer </answer> is not satisfied. \n",
    "We can improve the format reward by checking for this condition.\"\"\""
   ]
  },
  {
   "cell_type": "code",
   "execution_count": 10,
   "id": "567f85b4",
   "metadata": {},
   "outputs": [
    {
     "name": "stdout",
     "output_type": "stream",
     "text": [
      "Total samples: 7473\n",
      "Correct samples: 253, percent: 0.0339\n",
      "Format correct samples: 1154, percent: 0.1544\n",
      "Wrong samples: 6066, percent: 0.8117\n"
     ]
    }
   ],
   "source": [
    "correct_count = 0\n",
    "format_correct_count = 0\n",
    "wrong_count = 0\n",
    "for t, r in enumerate(rewards):\n",
    "    formatted_reward = r[\"format_reward\"]\n",
    "    answer_reward = r[\"answer_reward\"]\n",
    "    r = r[\"reward\"]\n",
    "    if formatted_reward > 0 and answer_reward > 0:\n",
    "        correct_count += 1\n",
    "    elif formatted_reward > 0 and answer_reward <= 0:\n",
    "        format_correct_count += 1\n",
    "    else:\n",
    "        wrong_count += 1\n",
    "print(f\"Total samples: {len(rewards)}\")\n",
    "print(f\"Correct samples: {correct_count}, percent: {correct_count / len(rewards):.4f}\")\n",
    "print(f\"Format correct samples: {format_correct_count}, percent: {format_correct_count / len(rewards):.4f}\")\n",
    "print(f\"Wrong samples: {wrong_count}, percent: {wrong_count / len(rewards):.4f}\")"
   ]
  },
  {
   "cell_type": "code",
   "execution_count": 31,
   "id": "4c396be3",
   "metadata": {},
   "outputs": [
    {
     "name": "stdout",
     "output_type": "stream",
     "text": [
      "Total such samples: 2753\n",
      "Prompt:\n",
      "A conversation between User and Assistant. The User asks a question, and the Assistant solves it. The Assistant first thinks about the reasoning process in the mind and then provides the User with the answer. The reasoning process is enclosed within <think> </think> and answer is enclosed within <answer> </answer> tags, respectively, i.e., <think> reasoning process here </think> <answer> answer here </answer>.\n",
      "User: A baker is comparing the day’s sales to his daily average. He usually sells 20 pastries and 10 loaves of bread. Today, he sells 14 pastries and 25 loaves of bread. If pastries are sold for $2 and loaves of bread are sold for $4, what is the difference, in dollars, between the baker’s daily average and total for today?\n",
      "Assistant: <think>\n",
      "--------------------\n",
      "Response:\n",
      " To solve this problem, we need to calculate the total sales for both the usual day and the today's sales. Then, we will find the difference.\n",
      "\n",
      "Step 1: Calculate usual sales.\n",
      "- Pastry sales: 20 pastries * $2 per pastry = $40\n",
      "- Bread sales: 10 loaves * $4 per loaf = $40\n",
      "- Total usual sales: $40 + $40 = $80\n",
      "\n",
      "Step 2: Calculate today's sales.\n",
      "- Pastry sales: 14 pastries * $2 per pastry = $28\n",
      "- Bread sales: 25 loaves * $4 per loaf = $100\n",
      "- Total today's sales: $28 + $100 = $128\n",
      "\n",
      "Step 3: Calculate the difference in sales.\n",
      "- Difference: $128 (today's sales) - $80 (usual sales) = $48\n",
      "\n",
      "Conclusion: The difference between the baker's daily average and today's total sales is $48.\n",
      "\n",
      "The answer is enclosed in <answer> and </answer>\n",
      "--------------------\n",
      "Ground Truth:\n",
      "48\n",
      "--------------------\n",
      "Reward:\n",
      "{'format_reward': 0.0, 'answer_reward': 0.0, 'reward': 0.0, 'reward_v2': 1.0}\n"
     ]
    }
   ],
   "source": [
    "import random\n",
    "prompts = results[\"prompts\"]\n",
    "responses = results[\"responses\"]\n",
    "rewards = results[\"rewards\"]\n",
    "ground_truths = results[\"ground_truths\"]\n",
    "all_indexes = []\n",
    "for t, r in enumerate(rewards):\n",
    "    formatted_reward = r[\"format_reward\"]\n",
    "    answer_reward = r[\"answer_reward\"]\n",
    "    answer_reward_v2 = r.get(\"reward_v2\", 0.0)\n",
    "    r = r[\"reward\"]\n",
    "    if answer_reward <= 0 and answer_reward_v2 > 0:\n",
    "        all_indexes.append(t)\n",
    "\n",
    "print(f\"Total such samples: {len(all_indexes)}\")\n",
    "index = random.choice(all_indexes)\n",
    "r = rewards[index]\n",
    "format_rewards = r[\"format_reward\"]\n",
    "print(\"Prompt:\")\n",
    "print(prompts[index])\n",
    "print(\"-\" * 20)\n",
    "print(\"Response:\")\n",
    "print(responses[index])\n",
    "print(\"-\" * 20)\n",
    "print(\"Ground Truth:\")\n",
    "print(ground_truths[index])\n",
    "print(\"-\" * 20)\n",
    "print(\"Reward:\")\n",
    "print(rewards[index])"
   ]
  },
  {
   "cell_type": "code",
   "execution_count": 1,
   "id": "fb3066de",
   "metadata": {},
   "outputs": [
    {
     "name": "stderr",
     "output_type": "stream",
     "text": [
      "/home/iceberg/repos/assignment5-alignment/cs336_alignment/drgrpo_grader.py:45: SyntaxWarning: invalid escape sequence '\\{'\n",
      "  m = re.search(\"^\\\\\\\\text\\{(?P<text>.+?)\\}$\", answer)\n",
      "/home/iceberg/repos/assignment5-alignment/cs336_alignment/drgrpo_grader.py:320: SyntaxWarning: invalid escape sequence '\\%'\n",
      "  string = string.replace(\"\\%\", \"\")\n",
      "/home/iceberg/repos/assignment5-alignment/cs336_alignment/drgrpo_grader.py:673: SyntaxWarning: invalid escape sequence '\\^'\n",
      "  BAD_REGEXES = [\"\\^[0-9]+\\^\", \"\\^[0-9][0-9]+\"]\n",
      "/home/iceberg/repos/assignment5-alignment/cs336_alignment/drgrpo_grader.py:673: SyntaxWarning: invalid escape sequence '\\^'\n",
      "  BAD_REGEXES = [\"\\^[0-9]+\\^\", \"\\^[0-9][0-9]+\"]\n",
      "/home/iceberg/repos/assignment5-alignment/cs336_alignment/drgrpo_grader.py:753: SyntaxWarning: invalid escape sequence '\\d'\n",
      "  p1 = re.compile(\"(\\d)(,)(\\d\\d\\d)($|\\D)\")\n",
      "/home/iceberg/repos/assignment5-alignment/cs336_alignment/drgrpo_grader.py:768: SyntaxWarning: invalid escape sequence '\\{'\n",
      "  m = re.search(\"^\\\\\\\\text\\{(?P<text>.+?)\\}$\", expr)\n",
      "/home/iceberg/repos/assignment5-alignment/cs336_alignment/drgrpo_grader.py:801: SyntaxWarning: invalid escape sequence '\\^'\n",
      "  expr = re.sub(f\"{unit}(es)?(s)? *(\\^[0-9]+)?\", \"\", expr)\n",
      "/home/iceberg/repos/assignment5-alignment/cs336_alignment/drgrpo_grader.py:802: SyntaxWarning: invalid escape sequence '\\^'\n",
      "  expr = re.sub(\"\\^ *\\\\\\\\circ\", \"\", expr)\n"
     ]
    },
    {
     "name": "stdout",
     "output_type": "stream",
     "text": [
      "resp_answer: [12, '12'], ground truth: 12, is_correct: True\n",
      "Reward: {'format_reward': 1.0, 'answer_reward': 1.0, 'reward': 1.0}\n"
     ]
    }
   ],
   "source": [
    "response = \"\"\"First, we need to find the number of male members in the club. Since there are two times as many female members as male members, we can set up the following equation: Number of female members = 2 * Number of male members. We also know that the total number of members in the club is 18. Therefore, Number of male members + Number of female members = 18. Substituting the first equation into the second equation, we get Number of male members + 2 * Number of male members = 18. Solving for Number of male members, we get Number of male members = 6. Therefore, Number of female members = 2 * 6 = 12.</think> <answer> There are 12 female members in the glee club.</answer>\n",
    "\"\"\"\n",
    "gt = \"12\"\n",
    "from cs336_alignment.drgrpo_grader import r1_zero_reward_fn\n",
    "from math_verify import parse, verify\n",
    "reward = r1_zero_reward_fn(response, gt, False)\n",
    "resp_answer = parse(response)\n",
    "is_correct = verify(resp_answer, gt)\n",
    "print(f\"resp_answer: {resp_answer}, ground truth: {gt}, is_correct: {is_correct}\")\n",
    "print(f\"Reward: {reward}\")"
   ]
  },
  {
   "cell_type": "code",
   "execution_count": null,
   "id": "ea9c132c",
   "metadata": {},
   "outputs": [],
   "source": []
  }
 ],
 "metadata": {
  "kernelspec": {
   "display_name": "alignment",
   "language": "python",
   "name": "python3"
  },
  "language_info": {
   "codemirror_mode": {
    "name": "ipython",
    "version": 3
   },
   "file_extension": ".py",
   "mimetype": "text/x-python",
   "name": "python",
   "nbconvert_exporter": "python",
   "pygments_lexer": "ipython3",
   "version": "3.12.11"
  }
 },
 "nbformat": 4,
 "nbformat_minor": 5
}
